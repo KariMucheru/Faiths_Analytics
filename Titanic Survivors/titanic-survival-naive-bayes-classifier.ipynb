{
 "cells": [
  {
   "cell_type": "markdown",
   "id": "fc11d114",
   "metadata": {
    "papermill": {
     "duration": 0.008707,
     "end_time": "2023-04-08T14:06:29.479628",
     "exception": false,
     "start_time": "2023-04-08T14:06:29.470921",
     "status": "completed"
    },
    "tags": []
   },
   "source": [
    "<h1 style=\"color:black\" align=\"center\">Naive Bayes Classifier</h1>"
   ]
  },
  {
   "cell_type": "markdown",
   "id": "5be7011a",
   "metadata": {
    "papermill": {
     "duration": 0.006851,
     "end_time": "2023-04-08T14:06:29.493860",
     "exception": false,
     "start_time": "2023-04-08T14:06:29.487009",
     "status": "completed"
    },
    "tags": []
   },
   "source": [
    "**Importing Important Libraries**"
   ]
  },
  {
   "cell_type": "code",
   "execution_count": 1,
   "id": "e0bd3a28",
   "metadata": {
    "execution": {
     "iopub.execute_input": "2023-04-08T14:06:29.510360Z",
     "iopub.status.busy": "2023-04-08T14:06:29.509550Z",
     "iopub.status.idle": "2023-04-08T14:06:29.519081Z",
     "shell.execute_reply": "2023-04-08T14:06:29.517872Z"
    },
    "papermill": {
     "duration": 0.020842,
     "end_time": "2023-04-08T14:06:29.521776",
     "exception": false,
     "start_time": "2023-04-08T14:06:29.500934",
     "status": "completed"
    },
    "tags": []
   },
   "outputs": [],
   "source": [
    "import pandas as pd"
   ]
  },
  {
   "cell_type": "markdown",
   "id": "575cb3ce",
   "metadata": {
    "papermill": {
     "duration": 0.006813,
     "end_time": "2023-04-08T14:06:29.535738",
     "exception": false,
     "start_time": "2023-04-08T14:06:29.528925",
     "status": "completed"
    },
    "tags": []
   },
   "source": [
    "**Reading CSV File**"
   ]
  },
  {
   "cell_type": "code",
   "execution_count": 2,
   "id": "ef4a47c2",
   "metadata": {
    "execution": {
     "iopub.execute_input": "2023-04-08T14:06:29.552799Z",
     "iopub.status.busy": "2023-04-08T14:06:29.551257Z",
     "iopub.status.idle": "2023-04-08T14:06:29.602973Z",
     "shell.execute_reply": "2023-04-08T14:06:29.601695Z"
    },
    "papermill": {
     "duration": 0.063922,
     "end_time": "2023-04-08T14:06:29.606635",
     "exception": false,
     "start_time": "2023-04-08T14:06:29.542713",
     "status": "completed"
    },
    "tags": []
   },
   "outputs": [
    {
     "data": {
      "text/html": [
       "<div>\n",
       "<style scoped>\n",
       "    .dataframe tbody tr th:only-of-type {\n",
       "        vertical-align: middle;\n",
       "    }\n",
       "\n",
       "    .dataframe tbody tr th {\n",
       "        vertical-align: top;\n",
       "    }\n",
       "\n",
       "    .dataframe thead th {\n",
       "        text-align: right;\n",
       "    }\n",
       "</style>\n",
       "<table border=\"1\" class=\"dataframe\">\n",
       "  <thead>\n",
       "    <tr style=\"text-align: right;\">\n",
       "      <th></th>\n",
       "      <th>PassengerId</th>\n",
       "      <th>Survived</th>\n",
       "      <th>Pclass</th>\n",
       "      <th>Name</th>\n",
       "      <th>Sex</th>\n",
       "      <th>Age</th>\n",
       "      <th>SibSp</th>\n",
       "      <th>Parch</th>\n",
       "      <th>Ticket</th>\n",
       "      <th>Fare</th>\n",
       "      <th>Cabin</th>\n",
       "      <th>Embarked</th>\n",
       "    </tr>\n",
       "  </thead>\n",
       "  <tbody>\n",
       "    <tr>\n",
       "      <th>0</th>\n",
       "      <td>1</td>\n",
       "      <td>0</td>\n",
       "      <td>3</td>\n",
       "      <td>Braund, Mr. Owen Harris</td>\n",
       "      <td>male</td>\n",
       "      <td>22.0</td>\n",
       "      <td>1</td>\n",
       "      <td>0</td>\n",
       "      <td>A/5 21171</td>\n",
       "      <td>7.2500</td>\n",
       "      <td>NaN</td>\n",
       "      <td>S</td>\n",
       "    </tr>\n",
       "    <tr>\n",
       "      <th>1</th>\n",
       "      <td>2</td>\n",
       "      <td>1</td>\n",
       "      <td>1</td>\n",
       "      <td>Cumings, Mrs. John Bradley (Florence Briggs Th...</td>\n",
       "      <td>female</td>\n",
       "      <td>38.0</td>\n",
       "      <td>1</td>\n",
       "      <td>0</td>\n",
       "      <td>PC 17599</td>\n",
       "      <td>71.2833</td>\n",
       "      <td>C85</td>\n",
       "      <td>C</td>\n",
       "    </tr>\n",
       "    <tr>\n",
       "      <th>2</th>\n",
       "      <td>3</td>\n",
       "      <td>1</td>\n",
       "      <td>3</td>\n",
       "      <td>Heikkinen, Miss. Laina</td>\n",
       "      <td>female</td>\n",
       "      <td>26.0</td>\n",
       "      <td>0</td>\n",
       "      <td>0</td>\n",
       "      <td>STON/O2. 3101282</td>\n",
       "      <td>7.9250</td>\n",
       "      <td>NaN</td>\n",
       "      <td>S</td>\n",
       "    </tr>\n",
       "    <tr>\n",
       "      <th>3</th>\n",
       "      <td>4</td>\n",
       "      <td>1</td>\n",
       "      <td>1</td>\n",
       "      <td>Futrelle, Mrs. Jacques Heath (Lily May Peel)</td>\n",
       "      <td>female</td>\n",
       "      <td>35.0</td>\n",
       "      <td>1</td>\n",
       "      <td>0</td>\n",
       "      <td>113803</td>\n",
       "      <td>53.1000</td>\n",
       "      <td>C123</td>\n",
       "      <td>S</td>\n",
       "    </tr>\n",
       "    <tr>\n",
       "      <th>4</th>\n",
       "      <td>5</td>\n",
       "      <td>0</td>\n",
       "      <td>3</td>\n",
       "      <td>Allen, Mr. William Henry</td>\n",
       "      <td>male</td>\n",
       "      <td>35.0</td>\n",
       "      <td>0</td>\n",
       "      <td>0</td>\n",
       "      <td>373450</td>\n",
       "      <td>8.0500</td>\n",
       "      <td>NaN</td>\n",
       "      <td>S</td>\n",
       "    </tr>\n",
       "  </tbody>\n",
       "</table>\n",
       "</div>"
      ],
      "text/plain": [
       "   PassengerId  Survived  Pclass  \\\n",
       "0            1         0       3   \n",
       "1            2         1       1   \n",
       "2            3         1       3   \n",
       "3            4         1       1   \n",
       "4            5         0       3   \n",
       "\n",
       "                                                Name     Sex   Age  SibSp  \\\n",
       "0                            Braund, Mr. Owen Harris    male  22.0      1   \n",
       "1  Cumings, Mrs. John Bradley (Florence Briggs Th...  female  38.0      1   \n",
       "2                             Heikkinen, Miss. Laina  female  26.0      0   \n",
       "3       Futrelle, Mrs. Jacques Heath (Lily May Peel)  female  35.0      1   \n",
       "4                           Allen, Mr. William Henry    male  35.0      0   \n",
       "\n",
       "   Parch            Ticket     Fare Cabin Embarked  \n",
       "0      0         A/5 21171   7.2500   NaN        S  \n",
       "1      0          PC 17599  71.2833   C85        C  \n",
       "2      0  STON/O2. 3101282   7.9250   NaN        S  \n",
       "3      0            113803  53.1000  C123        S  \n",
       "4      0            373450   8.0500   NaN        S  "
      ]
     },
     "execution_count": 2,
     "metadata": {},
     "output_type": "execute_result"
    }
   ],
   "source": [
    "df = pd.read_csv(\"/kaggle/input/titanic/train.csv\")\n",
    "df.head()"
   ]
  },
  {
   "cell_type": "markdown",
   "id": "81369f05",
   "metadata": {
    "papermill": {
     "duration": 0.007115,
     "end_time": "2023-04-08T14:06:29.621110",
     "exception": false,
     "start_time": "2023-04-08T14:06:29.613995",
     "status": "completed"
    },
    "tags": []
   },
   "source": [
    "**Removing unwanted Column's**"
   ]
  },
  {
   "cell_type": "code",
   "execution_count": 3,
   "id": "5fa269dc",
   "metadata": {
    "execution": {
     "iopub.execute_input": "2023-04-08T14:06:29.638562Z",
     "iopub.status.busy": "2023-04-08T14:06:29.637597Z",
     "iopub.status.idle": "2023-04-08T14:06:29.656356Z",
     "shell.execute_reply": "2023-04-08T14:06:29.654911Z"
    },
    "papermill": {
     "duration": 0.030548,
     "end_time": "2023-04-08T14:06:29.658980",
     "exception": false,
     "start_time": "2023-04-08T14:06:29.628432",
     "status": "completed"
    },
    "tags": []
   },
   "outputs": [
    {
     "data": {
      "text/html": [
       "<div>\n",
       "<style scoped>\n",
       "    .dataframe tbody tr th:only-of-type {\n",
       "        vertical-align: middle;\n",
       "    }\n",
       "\n",
       "    .dataframe tbody tr th {\n",
       "        vertical-align: top;\n",
       "    }\n",
       "\n",
       "    .dataframe thead th {\n",
       "        text-align: right;\n",
       "    }\n",
       "</style>\n",
       "<table border=\"1\" class=\"dataframe\">\n",
       "  <thead>\n",
       "    <tr style=\"text-align: right;\">\n",
       "      <th></th>\n",
       "      <th>Survived</th>\n",
       "      <th>Pclass</th>\n",
       "      <th>Sex</th>\n",
       "      <th>Age</th>\n",
       "      <th>Fare</th>\n",
       "    </tr>\n",
       "  </thead>\n",
       "  <tbody>\n",
       "    <tr>\n",
       "      <th>0</th>\n",
       "      <td>0</td>\n",
       "      <td>3</td>\n",
       "      <td>male</td>\n",
       "      <td>22.0</td>\n",
       "      <td>7.2500</td>\n",
       "    </tr>\n",
       "    <tr>\n",
       "      <th>1</th>\n",
       "      <td>1</td>\n",
       "      <td>1</td>\n",
       "      <td>female</td>\n",
       "      <td>38.0</td>\n",
       "      <td>71.2833</td>\n",
       "    </tr>\n",
       "    <tr>\n",
       "      <th>2</th>\n",
       "      <td>1</td>\n",
       "      <td>3</td>\n",
       "      <td>female</td>\n",
       "      <td>26.0</td>\n",
       "      <td>7.9250</td>\n",
       "    </tr>\n",
       "    <tr>\n",
       "      <th>3</th>\n",
       "      <td>1</td>\n",
       "      <td>1</td>\n",
       "      <td>female</td>\n",
       "      <td>35.0</td>\n",
       "      <td>53.1000</td>\n",
       "    </tr>\n",
       "    <tr>\n",
       "      <th>4</th>\n",
       "      <td>0</td>\n",
       "      <td>3</td>\n",
       "      <td>male</td>\n",
       "      <td>35.0</td>\n",
       "      <td>8.0500</td>\n",
       "    </tr>\n",
       "  </tbody>\n",
       "</table>\n",
       "</div>"
      ],
      "text/plain": [
       "   Survived  Pclass     Sex   Age     Fare\n",
       "0         0       3    male  22.0   7.2500\n",
       "1         1       1  female  38.0  71.2833\n",
       "2         1       3  female  26.0   7.9250\n",
       "3         1       1  female  35.0  53.1000\n",
       "4         0       3    male  35.0   8.0500"
      ]
     },
     "execution_count": 3,
     "metadata": {},
     "output_type": "execute_result"
    }
   ],
   "source": [
    "df.drop(['PassengerId','Name','SibSp','Parch','Ticket','Cabin','Embarked'],axis='columns',inplace=True)\n",
    "df.head()"
   ]
  },
  {
   "cell_type": "markdown",
   "id": "70c651ff",
   "metadata": {
    "papermill": {
     "duration": 0.008423,
     "end_time": "2023-04-08T14:06:29.675256",
     "exception": false,
     "start_time": "2023-04-08T14:06:29.666833",
     "status": "completed"
    },
    "tags": []
   },
   "source": [
    "**Defining Dependent and Independent Variable**"
   ]
  },
  {
   "cell_type": "code",
   "execution_count": 4,
   "id": "1fe084b8",
   "metadata": {
    "execution": {
     "iopub.execute_input": "2023-04-08T14:06:29.693737Z",
     "iopub.status.busy": "2023-04-08T14:06:29.692896Z",
     "iopub.status.idle": "2023-04-08T14:06:29.702573Z",
     "shell.execute_reply": "2023-04-08T14:06:29.701151Z"
    },
    "papermill": {
     "duration": 0.022055,
     "end_time": "2023-04-08T14:06:29.705691",
     "exception": false,
     "start_time": "2023-04-08T14:06:29.683636",
     "status": "completed"
    },
    "tags": []
   },
   "outputs": [],
   "source": [
    "X = df.drop([\"Survived\"],axis=\"columns\")\n",
    "y = df.Survived"
   ]
  },
  {
   "cell_type": "markdown",
   "id": "b47328c8",
   "metadata": {
    "papermill": {
     "duration": 0.007324,
     "end_time": "2023-04-08T14:06:29.720921",
     "exception": false,
     "start_time": "2023-04-08T14:06:29.713597",
     "status": "completed"
    },
    "tags": []
   },
   "source": [
    "**Get Dummy Values for Sex column**"
   ]
  },
  {
   "cell_type": "code",
   "execution_count": 5,
   "id": "19228de8",
   "metadata": {
    "execution": {
     "iopub.execute_input": "2023-04-08T14:06:29.738132Z",
     "iopub.status.busy": "2023-04-08T14:06:29.737680Z",
     "iopub.status.idle": "2023-04-08T14:06:29.754585Z",
     "shell.execute_reply": "2023-04-08T14:06:29.753366Z"
    },
    "papermill": {
     "duration": 0.028793,
     "end_time": "2023-04-08T14:06:29.757311",
     "exception": false,
     "start_time": "2023-04-08T14:06:29.728518",
     "status": "completed"
    },
    "tags": []
   },
   "outputs": [
    {
     "data": {
      "text/html": [
       "<div>\n",
       "<style scoped>\n",
       "    .dataframe tbody tr th:only-of-type {\n",
       "        vertical-align: middle;\n",
       "    }\n",
       "\n",
       "    .dataframe tbody tr th {\n",
       "        vertical-align: top;\n",
       "    }\n",
       "\n",
       "    .dataframe thead th {\n",
       "        text-align: right;\n",
       "    }\n",
       "</style>\n",
       "<table border=\"1\" class=\"dataframe\">\n",
       "  <thead>\n",
       "    <tr style=\"text-align: right;\">\n",
       "      <th></th>\n",
       "      <th>female</th>\n",
       "      <th>male</th>\n",
       "    </tr>\n",
       "  </thead>\n",
       "  <tbody>\n",
       "    <tr>\n",
       "      <th>0</th>\n",
       "      <td>0</td>\n",
       "      <td>1</td>\n",
       "    </tr>\n",
       "    <tr>\n",
       "      <th>1</th>\n",
       "      <td>1</td>\n",
       "      <td>0</td>\n",
       "    </tr>\n",
       "    <tr>\n",
       "      <th>2</th>\n",
       "      <td>1</td>\n",
       "      <td>0</td>\n",
       "    </tr>\n",
       "    <tr>\n",
       "      <th>3</th>\n",
       "      <td>1</td>\n",
       "      <td>0</td>\n",
       "    </tr>\n",
       "    <tr>\n",
       "      <th>4</th>\n",
       "      <td>0</td>\n",
       "      <td>1</td>\n",
       "    </tr>\n",
       "  </tbody>\n",
       "</table>\n",
       "</div>"
      ],
      "text/plain": [
       "   female  male\n",
       "0       0     1\n",
       "1       1     0\n",
       "2       1     0\n",
       "3       1     0\n",
       "4       0     1"
      ]
     },
     "execution_count": 5,
     "metadata": {},
     "output_type": "execute_result"
    }
   ],
   "source": [
    "dummies = pd.get_dummies(X.Sex)\n",
    "dummies.head()"
   ]
  },
  {
   "cell_type": "markdown",
   "id": "7971e8da",
   "metadata": {
    "papermill": {
     "duration": 0.00749,
     "end_time": "2023-04-08T14:06:29.772665",
     "exception": false,
     "start_time": "2023-04-08T14:06:29.765175",
     "status": "completed"
    },
    "tags": []
   },
   "source": [
    "**Adding Dummies Column to the Dataframe**"
   ]
  },
  {
   "cell_type": "code",
   "execution_count": 6,
   "id": "56f876aa",
   "metadata": {
    "execution": {
     "iopub.execute_input": "2023-04-08T14:06:29.791189Z",
     "iopub.status.busy": "2023-04-08T14:06:29.790741Z",
     "iopub.status.idle": "2023-04-08T14:06:29.810682Z",
     "shell.execute_reply": "2023-04-08T14:06:29.809333Z"
    },
    "papermill": {
     "duration": 0.03211,
     "end_time": "2023-04-08T14:06:29.813151",
     "exception": false,
     "start_time": "2023-04-08T14:06:29.781041",
     "status": "completed"
    },
    "tags": []
   },
   "outputs": [
    {
     "data": {
      "text/html": [
       "<div>\n",
       "<style scoped>\n",
       "    .dataframe tbody tr th:only-of-type {\n",
       "        vertical-align: middle;\n",
       "    }\n",
       "\n",
       "    .dataframe tbody tr th {\n",
       "        vertical-align: top;\n",
       "    }\n",
       "\n",
       "    .dataframe thead th {\n",
       "        text-align: right;\n",
       "    }\n",
       "</style>\n",
       "<table border=\"1\" class=\"dataframe\">\n",
       "  <thead>\n",
       "    <tr style=\"text-align: right;\">\n",
       "      <th></th>\n",
       "      <th>Pclass</th>\n",
       "      <th>Sex</th>\n",
       "      <th>Age</th>\n",
       "      <th>Fare</th>\n",
       "      <th>female</th>\n",
       "      <th>male</th>\n",
       "    </tr>\n",
       "  </thead>\n",
       "  <tbody>\n",
       "    <tr>\n",
       "      <th>0</th>\n",
       "      <td>3</td>\n",
       "      <td>male</td>\n",
       "      <td>22.0</td>\n",
       "      <td>7.2500</td>\n",
       "      <td>0</td>\n",
       "      <td>1</td>\n",
       "    </tr>\n",
       "    <tr>\n",
       "      <th>1</th>\n",
       "      <td>1</td>\n",
       "      <td>female</td>\n",
       "      <td>38.0</td>\n",
       "      <td>71.2833</td>\n",
       "      <td>1</td>\n",
       "      <td>0</td>\n",
       "    </tr>\n",
       "    <tr>\n",
       "      <th>2</th>\n",
       "      <td>3</td>\n",
       "      <td>female</td>\n",
       "      <td>26.0</td>\n",
       "      <td>7.9250</td>\n",
       "      <td>1</td>\n",
       "      <td>0</td>\n",
       "    </tr>\n",
       "    <tr>\n",
       "      <th>3</th>\n",
       "      <td>1</td>\n",
       "      <td>female</td>\n",
       "      <td>35.0</td>\n",
       "      <td>53.1000</td>\n",
       "      <td>1</td>\n",
       "      <td>0</td>\n",
       "    </tr>\n",
       "    <tr>\n",
       "      <th>4</th>\n",
       "      <td>3</td>\n",
       "      <td>male</td>\n",
       "      <td>35.0</td>\n",
       "      <td>8.0500</td>\n",
       "      <td>0</td>\n",
       "      <td>1</td>\n",
       "    </tr>\n",
       "    <tr>\n",
       "      <th>...</th>\n",
       "      <td>...</td>\n",
       "      <td>...</td>\n",
       "      <td>...</td>\n",
       "      <td>...</td>\n",
       "      <td>...</td>\n",
       "      <td>...</td>\n",
       "    </tr>\n",
       "    <tr>\n",
       "      <th>886</th>\n",
       "      <td>2</td>\n",
       "      <td>male</td>\n",
       "      <td>27.0</td>\n",
       "      <td>13.0000</td>\n",
       "      <td>0</td>\n",
       "      <td>1</td>\n",
       "    </tr>\n",
       "    <tr>\n",
       "      <th>887</th>\n",
       "      <td>1</td>\n",
       "      <td>female</td>\n",
       "      <td>19.0</td>\n",
       "      <td>30.0000</td>\n",
       "      <td>1</td>\n",
       "      <td>0</td>\n",
       "    </tr>\n",
       "    <tr>\n",
       "      <th>888</th>\n",
       "      <td>3</td>\n",
       "      <td>female</td>\n",
       "      <td>NaN</td>\n",
       "      <td>23.4500</td>\n",
       "      <td>1</td>\n",
       "      <td>0</td>\n",
       "    </tr>\n",
       "    <tr>\n",
       "      <th>889</th>\n",
       "      <td>1</td>\n",
       "      <td>male</td>\n",
       "      <td>26.0</td>\n",
       "      <td>30.0000</td>\n",
       "      <td>0</td>\n",
       "      <td>1</td>\n",
       "    </tr>\n",
       "    <tr>\n",
       "      <th>890</th>\n",
       "      <td>3</td>\n",
       "      <td>male</td>\n",
       "      <td>32.0</td>\n",
       "      <td>7.7500</td>\n",
       "      <td>0</td>\n",
       "      <td>1</td>\n",
       "    </tr>\n",
       "  </tbody>\n",
       "</table>\n",
       "<p>891 rows × 6 columns</p>\n",
       "</div>"
      ],
      "text/plain": [
       "     Pclass     Sex   Age     Fare  female  male\n",
       "0         3    male  22.0   7.2500       0     1\n",
       "1         1  female  38.0  71.2833       1     0\n",
       "2         3  female  26.0   7.9250       1     0\n",
       "3         1  female  35.0  53.1000       1     0\n",
       "4         3    male  35.0   8.0500       0     1\n",
       "..      ...     ...   ...      ...     ...   ...\n",
       "886       2    male  27.0  13.0000       0     1\n",
       "887       1  female  19.0  30.0000       1     0\n",
       "888       3  female   NaN  23.4500       1     0\n",
       "889       1    male  26.0  30.0000       0     1\n",
       "890       3    male  32.0   7.7500       0     1\n",
       "\n",
       "[891 rows x 6 columns]"
      ]
     },
     "execution_count": 6,
     "metadata": {},
     "output_type": "execute_result"
    }
   ],
   "source": [
    "X = pd.concat([X,dummies],axis=\"columns\")\n",
    "X"
   ]
  },
  {
   "cell_type": "markdown",
   "id": "4f239e28",
   "metadata": {
    "papermill": {
     "duration": 0.007913,
     "end_time": "2023-04-08T14:06:29.829239",
     "exception": false,
     "start_time": "2023-04-08T14:06:29.821326",
     "status": "completed"
    },
    "tags": []
   },
   "source": [
    "**Dropping Sex Column after getting Dummies Value for Male and Female**"
   ]
  },
  {
   "cell_type": "code",
   "execution_count": 7,
   "id": "6b6ed7f7",
   "metadata": {
    "execution": {
     "iopub.execute_input": "2023-04-08T14:06:29.847596Z",
     "iopub.status.busy": "2023-04-08T14:06:29.846919Z",
     "iopub.status.idle": "2023-04-08T14:06:29.859496Z",
     "shell.execute_reply": "2023-04-08T14:06:29.858557Z"
    },
    "papermill": {
     "duration": 0.024483,
     "end_time": "2023-04-08T14:06:29.861793",
     "exception": false,
     "start_time": "2023-04-08T14:06:29.837310",
     "status": "completed"
    },
    "tags": []
   },
   "outputs": [
    {
     "data": {
      "text/html": [
       "<div>\n",
       "<style scoped>\n",
       "    .dataframe tbody tr th:only-of-type {\n",
       "        vertical-align: middle;\n",
       "    }\n",
       "\n",
       "    .dataframe tbody tr th {\n",
       "        vertical-align: top;\n",
       "    }\n",
       "\n",
       "    .dataframe thead th {\n",
       "        text-align: right;\n",
       "    }\n",
       "</style>\n",
       "<table border=\"1\" class=\"dataframe\">\n",
       "  <thead>\n",
       "    <tr style=\"text-align: right;\">\n",
       "      <th></th>\n",
       "      <th>Pclass</th>\n",
       "      <th>Age</th>\n",
       "      <th>Fare</th>\n",
       "      <th>female</th>\n",
       "      <th>male</th>\n",
       "    </tr>\n",
       "  </thead>\n",
       "  <tbody>\n",
       "    <tr>\n",
       "      <th>0</th>\n",
       "      <td>3</td>\n",
       "      <td>22.0</td>\n",
       "      <td>7.2500</td>\n",
       "      <td>0</td>\n",
       "      <td>1</td>\n",
       "    </tr>\n",
       "    <tr>\n",
       "      <th>1</th>\n",
       "      <td>1</td>\n",
       "      <td>38.0</td>\n",
       "      <td>71.2833</td>\n",
       "      <td>1</td>\n",
       "      <td>0</td>\n",
       "    </tr>\n",
       "    <tr>\n",
       "      <th>2</th>\n",
       "      <td>3</td>\n",
       "      <td>26.0</td>\n",
       "      <td>7.9250</td>\n",
       "      <td>1</td>\n",
       "      <td>0</td>\n",
       "    </tr>\n",
       "    <tr>\n",
       "      <th>3</th>\n",
       "      <td>1</td>\n",
       "      <td>35.0</td>\n",
       "      <td>53.1000</td>\n",
       "      <td>1</td>\n",
       "      <td>0</td>\n",
       "    </tr>\n",
       "    <tr>\n",
       "      <th>4</th>\n",
       "      <td>3</td>\n",
       "      <td>35.0</td>\n",
       "      <td>8.0500</td>\n",
       "      <td>0</td>\n",
       "      <td>1</td>\n",
       "    </tr>\n",
       "  </tbody>\n",
       "</table>\n",
       "</div>"
      ],
      "text/plain": [
       "   Pclass   Age     Fare  female  male\n",
       "0       3  22.0   7.2500       0     1\n",
       "1       1  38.0  71.2833       1     0\n",
       "2       3  26.0   7.9250       1     0\n",
       "3       1  35.0  53.1000       1     0\n",
       "4       3  35.0   8.0500       0     1"
      ]
     },
     "execution_count": 7,
     "metadata": {},
     "output_type": "execute_result"
    }
   ],
   "source": [
    "X.drop([\"Sex\"],axis=\"columns\",inplace=True)\n",
    "X.head()"
   ]
  },
  {
   "cell_type": "markdown",
   "id": "0f09e875",
   "metadata": {
    "papermill": {
     "duration": 0.008606,
     "end_time": "2023-04-08T14:06:29.878862",
     "exception": false,
     "start_time": "2023-04-08T14:06:29.870256",
     "status": "completed"
    },
    "tags": []
   },
   "source": [
    "**Looking for Null Values in DataFrame**"
   ]
  },
  {
   "cell_type": "code",
   "execution_count": 8,
   "id": "16daf1bc",
   "metadata": {
    "execution": {
     "iopub.execute_input": "2023-04-08T14:06:29.898381Z",
     "iopub.status.busy": "2023-04-08T14:06:29.897618Z",
     "iopub.status.idle": "2023-04-08T14:06:29.909120Z",
     "shell.execute_reply": "2023-04-08T14:06:29.907909Z"
    },
    "papermill": {
     "duration": 0.02477,
     "end_time": "2023-04-08T14:06:29.912022",
     "exception": false,
     "start_time": "2023-04-08T14:06:29.887252",
     "status": "completed"
    },
    "tags": []
   },
   "outputs": [
    {
     "data": {
      "text/plain": [
       "Pclass      0\n",
       "Age       177\n",
       "Fare        0\n",
       "female      0\n",
       "male        0\n",
       "dtype: int64"
      ]
     },
     "execution_count": 8,
     "metadata": {},
     "output_type": "execute_result"
    }
   ],
   "source": [
    "X.isna().sum()"
   ]
  },
  {
   "cell_type": "markdown",
   "id": "51050b37",
   "metadata": {
    "papermill": {
     "duration": 0.008313,
     "end_time": "2023-04-08T14:06:29.928681",
     "exception": false,
     "start_time": "2023-04-08T14:06:29.920368",
     "status": "completed"
    },
    "tags": []
   },
   "source": [
    "**Replacing Null Values with Mean of Age**"
   ]
  },
  {
   "cell_type": "code",
   "execution_count": 9,
   "id": "6584c53e",
   "metadata": {
    "execution": {
     "iopub.execute_input": "2023-04-08T14:06:29.948319Z",
     "iopub.status.busy": "2023-04-08T14:06:29.947867Z",
     "iopub.status.idle": "2023-04-08T14:06:29.961714Z",
     "shell.execute_reply": "2023-04-08T14:06:29.960779Z"
    },
    "papermill": {
     "duration": 0.02634,
     "end_time": "2023-04-08T14:06:29.963856",
     "exception": false,
     "start_time": "2023-04-08T14:06:29.937516",
     "status": "completed"
    },
    "tags": []
   },
   "outputs": [
    {
     "data": {
      "text/html": [
       "<div>\n",
       "<style scoped>\n",
       "    .dataframe tbody tr th:only-of-type {\n",
       "        vertical-align: middle;\n",
       "    }\n",
       "\n",
       "    .dataframe tbody tr th {\n",
       "        vertical-align: top;\n",
       "    }\n",
       "\n",
       "    .dataframe thead th {\n",
       "        text-align: right;\n",
       "    }\n",
       "</style>\n",
       "<table border=\"1\" class=\"dataframe\">\n",
       "  <thead>\n",
       "    <tr style=\"text-align: right;\">\n",
       "      <th></th>\n",
       "      <th>Pclass</th>\n",
       "      <th>Age</th>\n",
       "      <th>Fare</th>\n",
       "      <th>female</th>\n",
       "      <th>male</th>\n",
       "    </tr>\n",
       "  </thead>\n",
       "  <tbody>\n",
       "    <tr>\n",
       "      <th>0</th>\n",
       "      <td>3</td>\n",
       "      <td>22.0</td>\n",
       "      <td>7.2500</td>\n",
       "      <td>0</td>\n",
       "      <td>1</td>\n",
       "    </tr>\n",
       "    <tr>\n",
       "      <th>1</th>\n",
       "      <td>1</td>\n",
       "      <td>38.0</td>\n",
       "      <td>71.2833</td>\n",
       "      <td>1</td>\n",
       "      <td>0</td>\n",
       "    </tr>\n",
       "    <tr>\n",
       "      <th>2</th>\n",
       "      <td>3</td>\n",
       "      <td>26.0</td>\n",
       "      <td>7.9250</td>\n",
       "      <td>1</td>\n",
       "      <td>0</td>\n",
       "    </tr>\n",
       "    <tr>\n",
       "      <th>3</th>\n",
       "      <td>1</td>\n",
       "      <td>35.0</td>\n",
       "      <td>53.1000</td>\n",
       "      <td>1</td>\n",
       "      <td>0</td>\n",
       "    </tr>\n",
       "    <tr>\n",
       "      <th>4</th>\n",
       "      <td>3</td>\n",
       "      <td>35.0</td>\n",
       "      <td>8.0500</td>\n",
       "      <td>0</td>\n",
       "      <td>1</td>\n",
       "    </tr>\n",
       "  </tbody>\n",
       "</table>\n",
       "</div>"
      ],
      "text/plain": [
       "   Pclass   Age     Fare  female  male\n",
       "0       3  22.0   7.2500       0     1\n",
       "1       1  38.0  71.2833       1     0\n",
       "2       3  26.0   7.9250       1     0\n",
       "3       1  35.0  53.1000       1     0\n",
       "4       3  35.0   8.0500       0     1"
      ]
     },
     "execution_count": 9,
     "metadata": {},
     "output_type": "execute_result"
    }
   ],
   "source": [
    "X.Age = X.Age.fillna(X.Age.mean())\n",
    "X.head()"
   ]
  },
  {
   "cell_type": "markdown",
   "id": "d9b83661",
   "metadata": {
    "papermill": {
     "duration": 0.008407,
     "end_time": "2023-04-08T14:06:29.981029",
     "exception": false,
     "start_time": "2023-04-08T14:06:29.972622",
     "status": "completed"
    },
    "tags": []
   },
   "source": [
    "**Verifying that all Null Values are Gone**"
   ]
  },
  {
   "cell_type": "code",
   "execution_count": 10,
   "id": "170f5cfa",
   "metadata": {
    "execution": {
     "iopub.execute_input": "2023-04-08T14:06:30.000694Z",
     "iopub.status.busy": "2023-04-08T14:06:29.999916Z",
     "iopub.status.idle": "2023-04-08T14:06:30.008838Z",
     "shell.execute_reply": "2023-04-08T14:06:30.007559Z"
    },
    "papermill": {
     "duration": 0.021715,
     "end_time": "2023-04-08T14:06:30.011359",
     "exception": false,
     "start_time": "2023-04-08T14:06:29.989644",
     "status": "completed"
    },
    "tags": []
   },
   "outputs": [
    {
     "data": {
      "text/plain": [
       "Pclass    0\n",
       "Age       0\n",
       "Fare      0\n",
       "female    0\n",
       "male      0\n",
       "dtype: int64"
      ]
     },
     "execution_count": 10,
     "metadata": {},
     "output_type": "execute_result"
    }
   ],
   "source": [
    "X.isna().sum()"
   ]
  },
  {
   "cell_type": "markdown",
   "id": "70bf846c",
   "metadata": {
    "papermill": {
     "duration": 0.008349,
     "end_time": "2023-04-08T14:06:30.028551",
     "exception": false,
     "start_time": "2023-04-08T14:06:30.020202",
     "status": "completed"
    },
    "tags": []
   },
   "source": [
    "------"
   ]
  },
  {
   "cell_type": "markdown",
   "id": "61599e27",
   "metadata": {
    "papermill": {
     "duration": 0.008511,
     "end_time": "2023-04-08T14:06:30.045638",
     "exception": false,
     "start_time": "2023-04-08T14:06:30.037127",
     "status": "completed"
    },
    "tags": []
   },
   "source": [
    "**Train Test Split**"
   ]
  },
  {
   "cell_type": "code",
   "execution_count": 11,
   "id": "2afae075",
   "metadata": {
    "execution": {
     "iopub.execute_input": "2023-04-08T14:06:30.066424Z",
     "iopub.status.busy": "2023-04-08T14:06:30.065719Z",
     "iopub.status.idle": "2023-04-08T14:06:31.262335Z",
     "shell.execute_reply": "2023-04-08T14:06:31.260858Z"
    },
    "papermill": {
     "duration": 1.210525,
     "end_time": "2023-04-08T14:06:31.265389",
     "exception": false,
     "start_time": "2023-04-08T14:06:30.054864",
     "status": "completed"
    },
    "tags": []
   },
   "outputs": [],
   "source": [
    "from sklearn.model_selection import train_test_split"
   ]
  },
  {
   "cell_type": "code",
   "execution_count": 12,
   "id": "bd14fedb",
   "metadata": {
    "execution": {
     "iopub.execute_input": "2023-04-08T14:06:31.286645Z",
     "iopub.status.busy": "2023-04-08T14:06:31.285918Z",
     "iopub.status.idle": "2023-04-08T14:06:31.294391Z",
     "shell.execute_reply": "2023-04-08T14:06:31.293454Z"
    },
    "papermill": {
     "duration": 0.021508,
     "end_time": "2023-04-08T14:06:31.296844",
     "exception": false,
     "start_time": "2023-04-08T14:06:31.275336",
     "status": "completed"
    },
    "tags": []
   },
   "outputs": [],
   "source": [
    "X_train, X_test, y_train, y_test = train_test_split(X,y,test_size=0.3)"
   ]
  },
  {
   "cell_type": "markdown",
   "id": "97ad85f3",
   "metadata": {
    "papermill": {
     "duration": 0.009152,
     "end_time": "2023-04-08T14:06:31.314700",
     "exception": false,
     "start_time": "2023-04-08T14:06:31.305548",
     "status": "completed"
    },
    "tags": []
   },
   "source": [
    "**Creating Naive Bayes Model**"
   ]
  },
  {
   "cell_type": "code",
   "execution_count": 13,
   "id": "ff3b1f9e",
   "metadata": {
    "execution": {
     "iopub.execute_input": "2023-04-08T14:06:31.335419Z",
     "iopub.status.busy": "2023-04-08T14:06:31.334661Z",
     "iopub.status.idle": "2023-04-08T14:06:31.348105Z",
     "shell.execute_reply": "2023-04-08T14:06:31.347145Z"
    },
    "papermill": {
     "duration": 0.026726,
     "end_time": "2023-04-08T14:06:31.350911",
     "exception": false,
     "start_time": "2023-04-08T14:06:31.324185",
     "status": "completed"
    },
    "tags": []
   },
   "outputs": [],
   "source": [
    "from sklearn.naive_bayes import GaussianNB"
   ]
  },
  {
   "cell_type": "code",
   "execution_count": 14,
   "id": "34c76247",
   "metadata": {
    "execution": {
     "iopub.execute_input": "2023-04-08T14:06:31.370607Z",
     "iopub.status.busy": "2023-04-08T14:06:31.369825Z",
     "iopub.status.idle": "2023-04-08T14:06:31.375323Z",
     "shell.execute_reply": "2023-04-08T14:06:31.374310Z"
    },
    "papermill": {
     "duration": 0.018068,
     "end_time": "2023-04-08T14:06:31.377824",
     "exception": false,
     "start_time": "2023-04-08T14:06:31.359756",
     "status": "completed"
    },
    "tags": []
   },
   "outputs": [],
   "source": [
    "model = GaussianNB()"
   ]
  },
  {
   "cell_type": "markdown",
   "id": "ea0cd85f",
   "metadata": {
    "papermill": {
     "duration": 0.008389,
     "end_time": "2023-04-08T14:06:31.395305",
     "exception": false,
     "start_time": "2023-04-08T14:06:31.386916",
     "status": "completed"
    },
    "tags": []
   },
   "source": [
    "**Fitting the Model with Data**"
   ]
  },
  {
   "cell_type": "code",
   "execution_count": 15,
   "id": "2e27883f",
   "metadata": {
    "execution": {
     "iopub.execute_input": "2023-04-08T14:06:31.415210Z",
     "iopub.status.busy": "2023-04-08T14:06:31.413948Z",
     "iopub.status.idle": "2023-04-08T14:06:31.430289Z",
     "shell.execute_reply": "2023-04-08T14:06:31.428980Z"
    },
    "papermill": {
     "duration": 0.029047,
     "end_time": "2023-04-08T14:06:31.432996",
     "exception": false,
     "start_time": "2023-04-08T14:06:31.403949",
     "status": "completed"
    },
    "tags": []
   },
   "outputs": [
    {
     "data": {
      "text/plain": [
       "GaussianNB()"
      ]
     },
     "execution_count": 15,
     "metadata": {},
     "output_type": "execute_result"
    }
   ],
   "source": [
    "model.fit(X_train,y_train)"
   ]
  },
  {
   "cell_type": "markdown",
   "id": "f9812763",
   "metadata": {
    "papermill": {
     "duration": 0.008469,
     "end_time": "2023-04-08T14:06:31.450545",
     "exception": false,
     "start_time": "2023-04-08T14:06:31.442076",
     "status": "completed"
    },
    "tags": []
   },
   "source": [
    "**Score of the Model**"
   ]
  },
  {
   "cell_type": "code",
   "execution_count": 16,
   "id": "2647d0cc",
   "metadata": {
    "execution": {
     "iopub.execute_input": "2023-04-08T14:06:31.469870Z",
     "iopub.status.busy": "2023-04-08T14:06:31.469399Z",
     "iopub.status.idle": "2023-04-08T14:06:31.479678Z",
     "shell.execute_reply": "2023-04-08T14:06:31.478506Z"
    },
    "papermill": {
     "duration": 0.022884,
     "end_time": "2023-04-08T14:06:31.482188",
     "exception": false,
     "start_time": "2023-04-08T14:06:31.459304",
     "status": "completed"
    },
    "tags": []
   },
   "outputs": [
    {
     "data": {
      "text/plain": [
       "0.7761194029850746"
      ]
     },
     "execution_count": 16,
     "metadata": {},
     "output_type": "execute_result"
    }
   ],
   "source": [
    "model.score(X_test,y_test)"
   ]
  },
  {
   "cell_type": "markdown",
   "id": "6aefdecc",
   "metadata": {
    "papermill": {
     "duration": 0.008495,
     "end_time": "2023-04-08T14:06:31.499595",
     "exception": false,
     "start_time": "2023-04-08T14:06:31.491100",
     "status": "completed"
    },
    "tags": []
   },
   "source": [
    "**Predicting the Data of First 10 Passengers**"
   ]
  },
  {
   "cell_type": "code",
   "execution_count": 17,
   "id": "710c8ee3",
   "metadata": {
    "execution": {
     "iopub.execute_input": "2023-04-08T14:06:31.519176Z",
     "iopub.status.busy": "2023-04-08T14:06:31.518779Z",
     "iopub.status.idle": "2023-04-08T14:06:31.528648Z",
     "shell.execute_reply": "2023-04-08T14:06:31.527664Z"
    },
    "papermill": {
     "duration": 0.022605,
     "end_time": "2023-04-08T14:06:31.531029",
     "exception": false,
     "start_time": "2023-04-08T14:06:31.508424",
     "status": "completed"
    },
    "tags": []
   },
   "outputs": [
    {
     "data": {
      "text/plain": [
       "array([1, 0, 0, 1, 0, 0, 0, 0, 0, 0])"
      ]
     },
     "execution_count": 17,
     "metadata": {},
     "output_type": "execute_result"
    }
   ],
   "source": [
    "model.predict(X_test[:10])"
   ]
  }
 ],
 "metadata": {
  "kernelspec": {
   "display_name": "Python 3",
   "language": "python",
   "name": "python3"
  },
  "language_info": {
   "codemirror_mode": {
    "name": "ipython",
    "version": 3
   },
   "file_extension": ".py",
   "mimetype": "text/x-python",
   "name": "python",
   "nbconvert_exporter": "python",
   "pygments_lexer": "ipython3",
   "version": "3.7.12"
  },
  "papermill": {
   "default_parameters": {},
   "duration": 13.909084,
   "end_time": "2023-04-08T14:06:32.362348",
   "environment_variables": {},
   "exception": null,
   "input_path": "__notebook__.ipynb",
   "output_path": "__notebook__.ipynb",
   "parameters": {},
   "start_time": "2023-04-08T14:06:18.453264",
   "version": "2.4.0"
  }
 },
 "nbformat": 4,
 "nbformat_minor": 5
}
